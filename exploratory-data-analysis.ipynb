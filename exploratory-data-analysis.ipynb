{
 "cells": [
  {
   "cell_type": "markdown",
   "id": "088db388",
   "metadata": {},
   "source": [
    "# Sentiment Analysis of Twitter"
   ]
  },
  {
   "cell_type": "code",
   "execution_count": 1,
   "id": "d3bef283",
   "metadata": {},
   "outputs": [
    {
     "name": "stderr",
     "output_type": "stream",
     "text": [
      "[nltk_data] Downloading package stopwords to C:\\Users\\Melis\n",
      "[nltk_data]     Nur\\AppData\\Roaming\\nltk_data...\n",
      "[nltk_data]   Package stopwords is already up-to-date!\n",
      "[nltk_data] Downloading package punkt to C:\\Users\\Melis\n",
      "[nltk_data]     Nur\\AppData\\Roaming\\nltk_data...\n",
      "[nltk_data]   Package punkt is already up-to-date!\n"
     ]
    }
   ],
   "source": [
    "# libraries\n",
    "\n",
    "import warnings\n",
    "warnings.filterwarnings(\"ignore\")\n",
    "\n",
    "import numpy as np\n",
    "import pandas as pd\n",
    "import json\n",
    "import os\n",
    "\n",
    "import re\n",
    "import spacy \n",
    "from spacy import displacy\n",
    "import gensim\n",
    "nlp = spacy.load(\"en_core_web_sm\")\n",
    "\n",
    "import nltk\n",
    "nltk.download('stopwords')\n",
    "nltk.download('punkt')\n",
    "from nltk.corpus import stopwords\n",
    "import string\n",
    "import contractions\n",
    "from nltk.corpus import stopwords\n",
    "from nltk.tokenize import word_tokenize\n",
    "from nltk.stem import WordNetLemmatizer\n",
    "from textblob import TextBlob\n",
    "\n",
    "from pandas_profiling import ProfileReport\n",
    "import seaborn as sns\n",
    "import matplotlib.pyplot as plt\n",
    "\n",
    "from gensim.corpora import Dictionary\n",
    "from gensim.models.ldamodel import LdaModel\n",
    "\n",
    "import missingno as msno\n",
    "from datetime import date\n",
    "from sklearn.metrics import accuracy_score\n",
    "from sklearn.model_selection import train_test_split\n",
    "from sklearn.neighbors import LocalOutlierFactor\n",
    "from sklearn.preprocessing import MinMaxScaler, LabelEncoder,StandardScaler, RobustScaler\n",
    "\n",
    "pd.set_option(\"display.max_columns\",None)\n",
    "pd.set_option(\"display.width\",500)\n",
    "sns.set(rc={\"figure.figsize\":(12,12)})\n",
    "\n",
    "pd.options.display.max_columns = None\n",
    "pd.options.display.max_rows = None\n",
    "pd.options.display.width = None\n",
    "pd.options.display.max_colwidth = None"
   ]
  },
  {
   "cell_type": "code",
   "execution_count": 2,
   "id": "06229dd7",
   "metadata": {},
   "outputs": [],
   "source": [
    "# Define the directory where the JSON files are located\n",
    "json_dir = 'data/'\n",
    "\n",
    "# Create an empty list to store the dataframes\n",
    "df_list = []\n",
    "\n",
    "# Loop through all files in the directory\n",
    "for filename in os.listdir(json_dir):\n",
    "    # Check if the file is a JSON file\n",
    "    if filename.endswith('.json'):\n",
    "        # Load the JSON data\n",
    "        with open(os.path.join(json_dir, filename), 'r', encoding='ISO-8859-1') as f:\n",
    "            data = json.load(f)\n",
    "        # Convert the dictionary to a DataFrame and append it to the list\n",
    "        df_list.append(pd.DataFrame.from_dict(data))\n",
    "\n",
    "# Concatenate all dataframes in the list into one dataframe\n",
    "data = pd.concat(df_list, ignore_index=True)"
   ]
  },
  {
   "cell_type": "code",
   "execution_count": 3,
   "id": "a6ea5793",
   "metadata": {},
   "outputs": [
    {
     "data": {
      "text/html": [
       "<div>\n",
       "<style scoped>\n",
       "    .dataframe tbody tr th:only-of-type {\n",
       "        vertical-align: middle;\n",
       "    }\n",
       "\n",
       "    .dataframe tbody tr th {\n",
       "        vertical-align: top;\n",
       "    }\n",
       "\n",
       "    .dataframe thead th {\n",
       "        text-align: right;\n",
       "    }\n",
       "</style>\n",
       "<table border=\"1\" class=\"dataframe\">\n",
       "  <thead>\n",
       "    <tr style=\"text-align: right;\">\n",
       "      <th></th>\n",
       "      <th>text</th>\n",
       "      <th>id</th>\n",
       "      <th>created_at</th>\n",
       "    </tr>\n",
       "  </thead>\n",
       "  <tbody>\n",
       "    <tr>\n",
       "      <th>0</th>\n",
       "      <td>@peanut_pitbull @ChrisJo80574828 @TheRealEarns @MarinaMedvin The government has no money they spend more than they receive via taxes. So they borrow from the fed which worsens inflation,worsens wealth inequality, and inflates bubbles. What good are roads etc if you are priced out of purchasing goods, unable to pay rent, and no savings</td>\n",
       "      <td>1457055231225778177</td>\n",
       "      <td>2021-11-06T18:40:12.000Z</td>\n",
       "    </tr>\n",
       "    <tr>\n",
       "      <th>1</th>\n",
       "      <td>@LitUpMagazine1 @thomaschattwill @nhannahjones Well, there is an argument to be made for people coming from different backgrounds and how that affects them. Which also mostly explain the inequality better than race: poor people tend to do worse than middle class/rich people and some ethnicities tends to be poorer than others.</td>\n",
       "      <td>1457055229468348420</td>\n",
       "      <td>2021-11-06T18:40:12.000Z</td>\n",
       "    </tr>\n",
       "    <tr>\n",
       "      <th>2</th>\n",
       "      <td>There's nothing libs love more than talking about institutional problems. Through parliaments one can set up all sort of investigative committees and set proposals. It's a great way to not actually address the economic inequality faced by the black community.</td>\n",
       "      <td>1457055203388280833</td>\n",
       "      <td>2021-11-06T18:40:05.000Z</td>\n",
       "    </tr>\n",
       "    <tr>\n",
       "      <th>3</th>\n",
       "      <td>Inequality has effects everywhere https://t.co/MK6E2AiVzq</td>\n",
       "      <td>1457055130914861057</td>\n",
       "      <td>2021-11-06T18:39:48.000Z</td>\n",
       "    </tr>\n",
       "    <tr>\n",
       "      <th>4</th>\n",
       "      <td>/6-Now, 'equity'-based education being handled by Equity Alliance of Minnesota. I don't know anything about them. I haven't heard why the change. Anyone?\\nMy point: Focus changed from \"equity of outcomes\" to guaranteed inequity, inequality, with no notice, explanation. More ?s</td>\n",
       "      <td>1457054652197920770</td>\n",
       "      <td>2021-11-06T18:37:54.000Z</td>\n",
       "    </tr>\n",
       "  </tbody>\n",
       "</table>\n",
       "</div>"
      ],
      "text/plain": [
       "                                                                                                                                                                                                                                                                                                                                               text  \\\n",
       "0  @peanut_pitbull @ChrisJo80574828 @TheRealEarns @MarinaMedvin The government has no money they spend more than they receive via taxes. So they borrow from the fed which worsens inflation,worsens wealth inequality, and inflates bubbles. What good are roads etc if you are priced out of purchasing goods, unable to pay rent, and no savings   \n",
       "1           @LitUpMagazine1 @thomaschattwill @nhannahjones Well, there is an argument to be made for people coming from different backgrounds and how that affects them. Which also mostly explain the inequality better than race: poor people tend to do worse than middle class/rich people and some ethnicities tends to be poorer than others.   \n",
       "2                                                                               There's nothing libs love more than talking about institutional problems. Through parliaments one can set up all sort of investigative committees and set proposals. It's a great way to not actually address the economic inequality faced by the black community.   \n",
       "3                                                                                                                                                                                                                                                                                         Inequality has effects everywhere https://t.co/MK6E2AiVzq   \n",
       "4                                                             /6-Now, 'equity'-based education being handled by Equity Alliance of Minnesota. I don't know anything about them. I haven't heard why the change. Anyone?\\nMy point: Focus changed from \"equity of outcomes\" to guaranteed inequity, inequality, with no notice, explanation. More ?s   \n",
       "\n",
       "                    id                created_at  \n",
       "0  1457055231225778177  2021-11-06T18:40:12.000Z  \n",
       "1  1457055229468348420  2021-11-06T18:40:12.000Z  \n",
       "2  1457055203388280833  2021-11-06T18:40:05.000Z  \n",
       "3  1457055130914861057  2021-11-06T18:39:48.000Z  \n",
       "4  1457054652197920770  2021-11-06T18:37:54.000Z  "
      ]
     },
     "execution_count": 3,
     "metadata": {},
     "output_type": "execute_result"
    }
   ],
   "source": [
    "data = data[[\"text\", \"id\",\"created_at\"]]\n",
    "data = data.iloc[:8000]\n",
    "data.head()"
   ]
  },
  {
   "cell_type": "code",
   "execution_count": 4,
   "id": "7d7d6222",
   "metadata": {},
   "outputs": [
    {
     "data": {
      "text/plain": [
       "8000"
      ]
     },
     "execution_count": 4,
     "metadata": {},
     "output_type": "execute_result"
    }
   ],
   "source": [
    "len(data)"
   ]
  },
  {
   "cell_type": "markdown",
   "id": "b9bafd2c",
   "metadata": {},
   "source": [
    "## Cleaning Data"
   ]
  },
  {
   "cell_type": "code",
   "execution_count": 5,
   "id": "e17f1fb3",
   "metadata": {},
   "outputs": [],
   "source": [
    "def preprocess_text(text):\n",
    "    # removing URLs\n",
    "    url_regex = re.compile(r'http\\S+')\n",
    "    text = url_regex.sub('', text)\n",
    "    \n",
    "    # expanding contractions\n",
    "    text = contractions.fix(text)\n",
    "    \n",
    "    # removing special characters and digits\n",
    "    text = re.sub('[^a-zA-Z]', ' ', text)\n",
    "    \n",
    "    # converting to lowercase\n",
    "    text = text.lower()\n",
    "    \n",
    "    # tokenizing text\n",
    "    tokens = word_tokenize(text)\n",
    "    \n",
    "    # removing stopwords\n",
    "    stop_words = stopwords.words('english')\n",
    "    tokens = [word for word in tokens if word not in stop_words]\n",
    "    \n",
    "    # lemmatizing tokens\n",
    "    lemmatizer = WordNetLemmatizer()\n",
    "    tokens = [lemmatizer.lemmatize(word) for word in tokens]\n",
    "    \n",
    "    # joining tokens back into a single string\n",
    "    text = ' '.join(tokens)\n",
    "    \n",
    "    return text"
   ]
  },
  {
   "cell_type": "code",
   "execution_count": 6,
   "id": "bb6be329",
   "metadata": {},
   "outputs": [],
   "source": [
    "# Apply preprocessing function to 'text' column of DataFrame\n",
    "data['cleaned_text'] = data['text'].apply(preprocess_text)\n",
    "\n",
    "# Tokenize the text in the 'text' column of your dataframe\n",
    "texts = [[token.text for token in nlp(text)] for text in data['cleaned_text']]\n",
    "\n",
    "# Create a dictionary of unique words from the tokenized texts\n",
    "dictionary = Dictionary(texts)\n",
    "\n",
    "# Convert the tokenized texts to bag-of-words format using the dictionary\n",
    "corpus = [dictionary.doc2bow(text) for text in texts]\n",
    "\n",
    "# Train an LDA model on the corpus\n",
    "lda_model = LdaModel(corpus=corpus, num_topics=5, id2word=dictionary)"
   ]
  },
  {
   "cell_type": "code",
   "execution_count": 7,
   "id": "c6ebe728",
   "metadata": {},
   "outputs": [],
   "source": [
    "def get_dominant_topic(model, corpus, texts):\n",
    "    # Get main topic in each document\n",
    "    topic_keywords = model.show_topics(formatted=False)\n",
    "    dominant_topic = []\n",
    "    for i, row in enumerate(model[corpus]):\n",
    "        row = sorted(row, key=lambda x: x[1], reverse=True)\n",
    "        for j, (topic_num, prop_topic) in enumerate(row):\n",
    "            if j == 0:  # get dominant topic\n",
    "                topic = topic_keywords[topic_num]\n",
    "                words = [word for word, prop in topic[1]]\n",
    "                topic_name = ', '.join(words)\n",
    "                dominant_topic.append(topic_name)\n",
    "            else:\n",
    "                break\n",
    "    return dominant_topic"
   ]
  },
  {
   "cell_type": "code",
   "execution_count": 8,
   "id": "faa4799a",
   "metadata": {},
   "outputs": [],
   "source": [
    "data['topic'] = get_dominant_topic(lda_model, corpus, data['cleaned_text'])"
   ]
  },
  {
   "cell_type": "code",
   "execution_count": 9,
   "id": "b73da814",
   "metadata": {},
   "outputs": [
    {
     "data": {
      "text/html": [
       "<div>\n",
       "<style scoped>\n",
       "    .dataframe tbody tr th:only-of-type {\n",
       "        vertical-align: middle;\n",
       "    }\n",
       "\n",
       "    .dataframe tbody tr th {\n",
       "        vertical-align: top;\n",
       "    }\n",
       "\n",
       "    .dataframe thead th {\n",
       "        text-align: right;\n",
       "    }\n",
       "</style>\n",
       "<table border=\"1\" class=\"dataframe\">\n",
       "  <thead>\n",
       "    <tr style=\"text-align: right;\">\n",
       "      <th></th>\n",
       "      <th>text</th>\n",
       "      <th>id</th>\n",
       "      <th>created_at</th>\n",
       "      <th>cleaned_text</th>\n",
       "      <th>topic</th>\n",
       "    </tr>\n",
       "  </thead>\n",
       "  <tbody>\n",
       "    <tr>\n",
       "      <th>0</th>\n",
       "      <td>@peanut_pitbull @ChrisJo80574828 @TheRealEarns @MarinaMedvin The government has no money they spend more than they receive via taxes. So they borrow from the fed which worsens inflation,worsens wealth inequality, and inflates bubbles. What good are roads etc if you are priced out of purchasing goods, unable to pay rent, and no savings</td>\n",
       "      <td>1457055231225778177</td>\n",
       "      <td>2021-11-06T18:40:12.000Z</td>\n",
       "      <td>peanut pitbull chrisjo therealearns marinamedvin government money spend receive via tax borrow fed worsens inflation worsens wealth inequality inflates bubble good road etc priced purchasing good unable pay rent saving</td>\n",
       "      <td>inequality, climate, people, racial, must, wealth, amp, history, poverty, change</td>\n",
       "    </tr>\n",
       "    <tr>\n",
       "      <th>1</th>\n",
       "      <td>@LitUpMagazine1 @thomaschattwill @nhannahjones Well, there is an argument to be made for people coming from different backgrounds and how that affects them. Which also mostly explain the inequality better than race: poor people tend to do worse than middle class/rich people and some ethnicities tends to be poorer than others.</td>\n",
       "      <td>1457055229468348420</td>\n",
       "      <td>2021-11-06T18:40:12.000Z</td>\n",
       "      <td>litupmagazine thomaschattwill nhannahjones well argument made people coming different background affect also mostly explain inequality better race poor people tend worse middle class rich people ethnicity tends poorer others</td>\n",
       "      <td>inequality, people, amp, health, u, one, income, economic, new, need</td>\n",
       "    </tr>\n",
       "    <tr>\n",
       "      <th>2</th>\n",
       "      <td>There's nothing libs love more than talking about institutional problems. Through parliaments one can set up all sort of investigative committees and set proposals. It's a great way to not actually address the economic inequality faced by the black community.</td>\n",
       "      <td>1457055203388280833</td>\n",
       "      <td>2021-11-06T18:40:05.000Z</td>\n",
       "      <td>nothing libs love talking institutional problem parliament one set sort investigative committee set proposal great way actually address economic inequality faced black community</td>\n",
       "      <td>inequality, people, amp, health, u, one, income, economic, new, need</td>\n",
       "    </tr>\n",
       "    <tr>\n",
       "      <th>3</th>\n",
       "      <td>Inequality has effects everywhere https://t.co/MK6E2AiVzq</td>\n",
       "      <td>1457055130914861057</td>\n",
       "      <td>2021-11-06T18:39:48.000Z</td>\n",
       "      <td>inequality effect everywhere</td>\n",
       "      <td>inequality, climate, people, racial, must, wealth, amp, history, poverty, change</td>\n",
       "    </tr>\n",
       "    <tr>\n",
       "      <th>4</th>\n",
       "      <td>/6-Now, 'equity'-based education being handled by Equity Alliance of Minnesota. I don't know anything about them. I haven't heard why the change. Anyone?\\nMy point: Focus changed from \"equity of outcomes\" to guaranteed inequity, inequality, with no notice, explanation. More ?s</td>\n",
       "      <td>1457054652197920770</td>\n",
       "      <td>2021-11-06T18:37:54.000Z</td>\n",
       "      <td>equity based education handled equity alliance minnesota know anything heard change anyone point focus changed equity outcome guaranteed inequity inequality notice explanation</td>\n",
       "      <td>inequality, wealth, amp, america, control, social, via, spiraled, problem, gender</td>\n",
       "    </tr>\n",
       "  </tbody>\n",
       "</table>\n",
       "</div>"
      ],
      "text/plain": [
       "                                                                                                                                                                                                                                                                                                                                               text  \\\n",
       "0  @peanut_pitbull @ChrisJo80574828 @TheRealEarns @MarinaMedvin The government has no money they spend more than they receive via taxes. So they borrow from the fed which worsens inflation,worsens wealth inequality, and inflates bubbles. What good are roads etc if you are priced out of purchasing goods, unable to pay rent, and no savings   \n",
       "1           @LitUpMagazine1 @thomaschattwill @nhannahjones Well, there is an argument to be made for people coming from different backgrounds and how that affects them. Which also mostly explain the inequality better than race: poor people tend to do worse than middle class/rich people and some ethnicities tends to be poorer than others.   \n",
       "2                                                                               There's nothing libs love more than talking about institutional problems. Through parliaments one can set up all sort of investigative committees and set proposals. It's a great way to not actually address the economic inequality faced by the black community.   \n",
       "3                                                                                                                                                                                                                                                                                         Inequality has effects everywhere https://t.co/MK6E2AiVzq   \n",
       "4                                                             /6-Now, 'equity'-based education being handled by Equity Alliance of Minnesota. I don't know anything about them. I haven't heard why the change. Anyone?\\nMy point: Focus changed from \"equity of outcomes\" to guaranteed inequity, inequality, with no notice, explanation. More ?s   \n",
       "\n",
       "                    id                created_at  \\\n",
       "0  1457055231225778177  2021-11-06T18:40:12.000Z   \n",
       "1  1457055229468348420  2021-11-06T18:40:12.000Z   \n",
       "2  1457055203388280833  2021-11-06T18:40:05.000Z   \n",
       "3  1457055130914861057  2021-11-06T18:39:48.000Z   \n",
       "4  1457054652197920770  2021-11-06T18:37:54.000Z   \n",
       "\n",
       "                                                                                                                                                                                                                       cleaned_text  \\\n",
       "0        peanut pitbull chrisjo therealearns marinamedvin government money spend receive via tax borrow fed worsens inflation worsens wealth inequality inflates bubble good road etc priced purchasing good unable pay rent saving   \n",
       "1  litupmagazine thomaschattwill nhannahjones well argument made people coming different background affect also mostly explain inequality better race poor people tend worse middle class rich people ethnicity tends poorer others   \n",
       "2                                                 nothing libs love talking institutional problem parliament one set sort investigative committee set proposal great way actually address economic inequality faced black community   \n",
       "3                                                                                                                                                                                                      inequality effect everywhere   \n",
       "4                                                   equity based education handled equity alliance minnesota know anything heard change anyone point focus changed equity outcome guaranteed inequity inequality notice explanation   \n",
       "\n",
       "                                                                               topic  \n",
       "0   inequality, climate, people, racial, must, wealth, amp, history, poverty, change  \n",
       "1               inequality, people, amp, health, u, one, income, economic, new, need  \n",
       "2               inequality, people, amp, health, u, one, income, economic, new, need  \n",
       "3   inequality, climate, people, racial, must, wealth, amp, history, poverty, change  \n",
       "4  inequality, wealth, amp, america, control, social, via, spiraled, problem, gender  "
      ]
     },
     "execution_count": 9,
     "metadata": {},
     "output_type": "execute_result"
    }
   ],
   "source": [
    "data.head()"
   ]
  },
  {
   "cell_type": "code",
   "execution_count": 10,
   "id": "3f40b06b",
   "metadata": {},
   "outputs": [],
   "source": [
    "def getSubjectivity(review):\n",
    "    return TextBlob(review).sentiment.subjectivity"
   ]
  },
  {
   "cell_type": "code",
   "execution_count": 11,
   "id": "e0bab916",
   "metadata": {},
   "outputs": [],
   "source": [
    "def getPolarity(review):\n",
    "    return TextBlob(review).sentiment.polarity"
   ]
  },
  {
   "cell_type": "code",
   "execution_count": 12,
   "id": "5c243915",
   "metadata": {},
   "outputs": [],
   "source": [
    "# function to analyze the reviews\n",
    "def analysis(score):\n",
    "    if score < 0:\n",
    "        return 'Negative'\n",
    "    elif score == 0:\n",
    "        return 'Neutral'\n",
    "    else:\n",
    "        return 'Positive'"
   ]
  },
  {
   "cell_type": "code",
   "execution_count": 13,
   "id": "ec60d6a5",
   "metadata": {},
   "outputs": [],
   "source": [
    "data['Subjectivity'] =data['cleaned_text'].apply(getSubjectivity) \n",
    "data['Polarity'] = data['cleaned_text'].apply(getPolarity) \n",
    "data['Analysis'] = data['Polarity'].apply(analysis)"
   ]
  },
  {
   "cell_type": "code",
   "execution_count": 14,
   "id": "f52bd928",
   "metadata": {},
   "outputs": [
    {
     "data": {
      "text/html": [
       "<div>\n",
       "<style scoped>\n",
       "    .dataframe tbody tr th:only-of-type {\n",
       "        vertical-align: middle;\n",
       "    }\n",
       "\n",
       "    .dataframe tbody tr th {\n",
       "        vertical-align: top;\n",
       "    }\n",
       "\n",
       "    .dataframe thead th {\n",
       "        text-align: right;\n",
       "    }\n",
       "</style>\n",
       "<table border=\"1\" class=\"dataframe\">\n",
       "  <thead>\n",
       "    <tr style=\"text-align: right;\">\n",
       "      <th></th>\n",
       "      <th>text</th>\n",
       "      <th>id</th>\n",
       "      <th>created_at</th>\n",
       "      <th>cleaned_text</th>\n",
       "      <th>topic</th>\n",
       "      <th>Subjectivity</th>\n",
       "      <th>Polarity</th>\n",
       "      <th>Analysis</th>\n",
       "    </tr>\n",
       "  </thead>\n",
       "  <tbody>\n",
       "    <tr>\n",
       "      <th>0</th>\n",
       "      <td>@peanut_pitbull @ChrisJo80574828 @TheRealEarns @MarinaMedvin The government has no money they spend more than they receive via taxes. So they borrow from the fed which worsens inflation,worsens wealth inequality, and inflates bubbles. What good are roads etc if you are priced out of purchasing goods, unable to pay rent, and no savings</td>\n",
       "      <td>1457055231225778177</td>\n",
       "      <td>2021-11-06T18:40:12.000Z</td>\n",
       "      <td>peanut pitbull chrisjo therealearns marinamedvin government money spend receive via tax borrow fed worsens inflation worsens wealth inequality inflates bubble good road etc priced purchasing good unable pay rent saving</td>\n",
       "      <td>inequality, climate, people, racial, must, wealth, amp, history, poverty, change</td>\n",
       "      <td>0.566667</td>\n",
       "      <td>0.300000</td>\n",
       "      <td>Positive</td>\n",
       "    </tr>\n",
       "    <tr>\n",
       "      <th>1</th>\n",
       "      <td>@LitUpMagazine1 @thomaschattwill @nhannahjones Well, there is an argument to be made for people coming from different backgrounds and how that affects them. Which also mostly explain the inequality better than race: poor people tend to do worse than middle class/rich people and some ethnicities tends to be poorer than others.</td>\n",
       "      <td>1457055229468348420</td>\n",
       "      <td>2021-11-06T18:40:12.000Z</td>\n",
       "      <td>litupmagazine thomaschattwill nhannahjones well argument made people coming different background affect also mostly explain inequality better race poor people tend worse middle class rich people ethnicity tends poorer others</td>\n",
       "      <td>inequality, people, amp, health, u, one, income, economic, new, need</td>\n",
       "      <td>0.507143</td>\n",
       "      <td>0.082143</td>\n",
       "      <td>Positive</td>\n",
       "    </tr>\n",
       "    <tr>\n",
       "      <th>2</th>\n",
       "      <td>There's nothing libs love more than talking about institutional problems. Through parliaments one can set up all sort of investigative committees and set proposals. It's a great way to not actually address the economic inequality faced by the black community.</td>\n",
       "      <td>1457055203388280833</td>\n",
       "      <td>2021-11-06T18:40:05.000Z</td>\n",
       "      <td>nothing libs love talking institutional problem parliament one set sort investigative committee set proposal great way actually address economic inequality faced black community</td>\n",
       "      <td>inequality, people, amp, health, u, one, income, economic, new, need</td>\n",
       "      <td>0.416667</td>\n",
       "      <td>0.266667</td>\n",
       "      <td>Positive</td>\n",
       "    </tr>\n",
       "    <tr>\n",
       "      <th>3</th>\n",
       "      <td>Inequality has effects everywhere https://t.co/MK6E2AiVzq</td>\n",
       "      <td>1457055130914861057</td>\n",
       "      <td>2021-11-06T18:39:48.000Z</td>\n",
       "      <td>inequality effect everywhere</td>\n",
       "      <td>inequality, climate, people, racial, must, wealth, amp, history, poverty, change</td>\n",
       "      <td>0.000000</td>\n",
       "      <td>0.000000</td>\n",
       "      <td>Neutral</td>\n",
       "    </tr>\n",
       "    <tr>\n",
       "      <th>4</th>\n",
       "      <td>/6-Now, 'equity'-based education being handled by Equity Alliance of Minnesota. I don't know anything about them. I haven't heard why the change. Anyone?\\nMy point: Focus changed from \"equity of outcomes\" to guaranteed inequity, inequality, with no notice, explanation. More ?s</td>\n",
       "      <td>1457054652197920770</td>\n",
       "      <td>2021-11-06T18:37:54.000Z</td>\n",
       "      <td>equity based education handled equity alliance minnesota know anything heard change anyone point focus changed equity outcome guaranteed inequity inequality notice explanation</td>\n",
       "      <td>inequality, wealth, amp, america, control, social, via, spiraled, problem, gender</td>\n",
       "      <td>0.000000</td>\n",
       "      <td>0.000000</td>\n",
       "      <td>Neutral</td>\n",
       "    </tr>\n",
       "  </tbody>\n",
       "</table>\n",
       "</div>"
      ],
      "text/plain": [
       "                                                                                                                                                                                                                                                                                                                                               text  \\\n",
       "0  @peanut_pitbull @ChrisJo80574828 @TheRealEarns @MarinaMedvin The government has no money they spend more than they receive via taxes. So they borrow from the fed which worsens inflation,worsens wealth inequality, and inflates bubbles. What good are roads etc if you are priced out of purchasing goods, unable to pay rent, and no savings   \n",
       "1           @LitUpMagazine1 @thomaschattwill @nhannahjones Well, there is an argument to be made for people coming from different backgrounds and how that affects them. Which also mostly explain the inequality better than race: poor people tend to do worse than middle class/rich people and some ethnicities tends to be poorer than others.   \n",
       "2                                                                               There's nothing libs love more than talking about institutional problems. Through parliaments one can set up all sort of investigative committees and set proposals. It's a great way to not actually address the economic inequality faced by the black community.   \n",
       "3                                                                                                                                                                                                                                                                                         Inequality has effects everywhere https://t.co/MK6E2AiVzq   \n",
       "4                                                             /6-Now, 'equity'-based education being handled by Equity Alliance of Minnesota. I don't know anything about them. I haven't heard why the change. Anyone?\\nMy point: Focus changed from \"equity of outcomes\" to guaranteed inequity, inequality, with no notice, explanation. More ?s   \n",
       "\n",
       "                    id                created_at  \\\n",
       "0  1457055231225778177  2021-11-06T18:40:12.000Z   \n",
       "1  1457055229468348420  2021-11-06T18:40:12.000Z   \n",
       "2  1457055203388280833  2021-11-06T18:40:05.000Z   \n",
       "3  1457055130914861057  2021-11-06T18:39:48.000Z   \n",
       "4  1457054652197920770  2021-11-06T18:37:54.000Z   \n",
       "\n",
       "                                                                                                                                                                                                                       cleaned_text  \\\n",
       "0        peanut pitbull chrisjo therealearns marinamedvin government money spend receive via tax borrow fed worsens inflation worsens wealth inequality inflates bubble good road etc priced purchasing good unable pay rent saving   \n",
       "1  litupmagazine thomaschattwill nhannahjones well argument made people coming different background affect also mostly explain inequality better race poor people tend worse middle class rich people ethnicity tends poorer others   \n",
       "2                                                 nothing libs love talking institutional problem parliament one set sort investigative committee set proposal great way actually address economic inequality faced black community   \n",
       "3                                                                                                                                                                                                      inequality effect everywhere   \n",
       "4                                                   equity based education handled equity alliance minnesota know anything heard change anyone point focus changed equity outcome guaranteed inequity inequality notice explanation   \n",
       "\n",
       "                                                                               topic  \\\n",
       "0   inequality, climate, people, racial, must, wealth, amp, history, poverty, change   \n",
       "1               inequality, people, amp, health, u, one, income, economic, new, need   \n",
       "2               inequality, people, amp, health, u, one, income, economic, new, need   \n",
       "3   inequality, climate, people, racial, must, wealth, amp, history, poverty, change   \n",
       "4  inequality, wealth, amp, america, control, social, via, spiraled, problem, gender   \n",
       "\n",
       "   Subjectivity  Polarity  Analysis  \n",
       "0      0.566667  0.300000  Positive  \n",
       "1      0.507143  0.082143  Positive  \n",
       "2      0.416667  0.266667  Positive  \n",
       "3      0.000000  0.000000   Neutral  \n",
       "4      0.000000  0.000000   Neutral  "
      ]
     },
     "execution_count": 14,
     "metadata": {},
     "output_type": "execute_result"
    }
   ],
   "source": [
    "data.head()"
   ]
  },
  {
   "cell_type": "code",
   "execution_count": 15,
   "id": "9dbb0c7c",
   "metadata": {},
   "outputs": [],
   "source": [
    "#data= data[:8000]\n",
    "#data.to_csv('100_tweet_data.csv', index=False)"
   ]
  },
  {
   "cell_type": "code",
   "execution_count": 16,
   "id": "23d0c923",
   "metadata": {},
   "outputs": [
    {
     "name": "stdout",
     "output_type": "stream",
     "text": [
      "<class 'pandas.core.frame.DataFrame'>\n",
      "RangeIndex: 8000 entries, 0 to 7999\n",
      "Data columns (total 8 columns):\n",
      " #   Column        Non-Null Count  Dtype  \n",
      "---  ------        --------------  -----  \n",
      " 0   text          8000 non-null   object \n",
      " 1   id            8000 non-null   object \n",
      " 2   created_at    8000 non-null   object \n",
      " 3   cleaned_text  8000 non-null   object \n",
      " 4   topic         8000 non-null   object \n",
      " 5   Subjectivity  8000 non-null   float64\n",
      " 6   Polarity      8000 non-null   float64\n",
      " 7   Analysis      8000 non-null   object \n",
      "dtypes: float64(2), object(6)\n",
      "memory usage: 500.1+ KB\n"
     ]
    }
   ],
   "source": [
    "data.info()"
   ]
  },
  {
   "cell_type": "markdown",
   "id": "705250e7",
   "metadata": {},
   "source": [
    "## Exploratory Data Analysis"
   ]
  },
  {
   "cell_type": "code",
   "execution_count": 17,
   "id": "1c2d96c2",
   "metadata": {},
   "outputs": [
    {
     "data": {
      "text/html": [
       "<style type=\"text/css\">\n",
       "#T_88374_row0_col1 {\n",
       "  background-color: #3f007d;\n",
       "  color: #f1f1f1;\n",
       "}\n",
       "#T_88374_row1_col1 {\n",
       "  background-color: #f9f8fb;\n",
       "  color: #000000;\n",
       "}\n",
       "#T_88374_row2_col1 {\n",
       "  background-color: #fcfbfd;\n",
       "  color: #000000;\n",
       "}\n",
       "</style>\n",
       "<table id=\"T_88374\">\n",
       "  <thead>\n",
       "    <tr>\n",
       "      <th class=\"blank level0\" >&nbsp;</th>\n",
       "      <th id=\"T_88374_level0_col0\" class=\"col_heading level0 col0\" >Analysis</th>\n",
       "      <th id=\"T_88374_level0_col1\" class=\"col_heading level0 col1\" >cleaned_text</th>\n",
       "    </tr>\n",
       "  </thead>\n",
       "  <tbody>\n",
       "    <tr>\n",
       "      <th id=\"T_88374_level0_row0\" class=\"row_heading level0 row0\" >2</th>\n",
       "      <td id=\"T_88374_row0_col0\" class=\"data row0 col0\" >Positive</td>\n",
       "      <td id=\"T_88374_row0_col1\" class=\"data row0 col1\" >3996</td>\n",
       "    </tr>\n",
       "    <tr>\n",
       "      <th id=\"T_88374_level0_row1\" class=\"row_heading level0 row1\" >1</th>\n",
       "      <td id=\"T_88374_row1_col0\" class=\"data row1 col0\" >Neutral</td>\n",
       "      <td id=\"T_88374_row1_col1\" class=\"data row1 col1\" >2030</td>\n",
       "    </tr>\n",
       "    <tr>\n",
       "      <th id=\"T_88374_level0_row2\" class=\"row_heading level0 row2\" >0</th>\n",
       "      <td id=\"T_88374_row2_col0\" class=\"data row2 col0\" >Negative</td>\n",
       "      <td id=\"T_88374_row2_col1\" class=\"data row2 col1\" >1974</td>\n",
       "    </tr>\n",
       "  </tbody>\n",
       "</table>\n"
      ],
      "text/plain": [
       "<pandas.io.formats.style.Styler at 0x24c2bdaea00>"
      ]
     },
     "execution_count": 17,
     "metadata": {},
     "output_type": "execute_result"
    }
   ],
   "source": [
    "temp = data.groupby('Analysis').count()['cleaned_text'].reset_index().sort_values(by='cleaned_text', ascending=False)\n",
    "temp.style.background_gradient(cmap='Purples')"
   ]
  },
  {
   "cell_type": "code",
   "execution_count": 19,
   "id": "6ef4f09d",
   "metadata": {},
   "outputs": [
    {
     "name": "stdout",
     "output_type": "stream",
     "text": [
      "First date: 2021-11-06 14:52:20\n",
      "Last date: 2021-11-09 14:57:00\n"
     ]
    }
   ],
   "source": [
    "import datetime\n",
    "\n",
    "# Convert the dates to datetime objects\n",
    "parsed_dates = [datetime.datetime.strptime(date, \"%Y-%m-%dT%H:%M:%S.%fZ\") for date in data[\"created_at\"]]\n",
    "\n",
    "# Find the first and last dates\n",
    "first_date = min(parsed_dates)\n",
    "last_date = max(parsed_dates)\n",
    "\n",
    "# Print the first and last dates\n",
    "print(\"First date:\", first_date)\n",
    "print(\"Last date:\", last_date)"
   ]
  },
  {
   "cell_type": "code",
   "execution_count": 22,
   "id": "07c6a5c3",
   "metadata": {},
   "outputs": [
    {
     "data": {
      "text/plain": [
       "array(['2021-11-06T18:40:12.000Z', '2021-11-06T18:40:05.000Z',\n",
       "       '2021-11-06T18:39:48.000Z', ..., '2021-11-09T14:00:03.000Z',\n",
       "       '2021-11-09T14:00:02.000Z', '2021-11-09T14:00:00.000Z'],\n",
       "      dtype=object)"
      ]
     },
     "execution_count": 22,
     "metadata": {},
     "output_type": "execute_result"
    }
   ],
   "source": [
    "data[\"created_at\"].unique()"
   ]
  },
  {
   "cell_type": "code",
   "execution_count": 23,
   "id": "51909b66",
   "metadata": {},
   "outputs": [
    {
     "data": {
      "text/plain": [
       "7826"
      ]
     },
     "execution_count": 23,
     "metadata": {},
     "output_type": "execute_result"
    }
   ],
   "source": [
    "data[\"created_at\"].nunique()"
   ]
  },
  {
   "cell_type": "code",
   "execution_count": 57,
   "id": "bb15e00b",
   "metadata": {},
   "outputs": [
    {
     "data": {
      "text/html": [
       "<div>\n",
       "<style scoped>\n",
       "    .dataframe tbody tr th:only-of-type {\n",
       "        vertical-align: middle;\n",
       "    }\n",
       "\n",
       "    .dataframe tbody tr th {\n",
       "        vertical-align: top;\n",
       "    }\n",
       "\n",
       "    .dataframe thead th {\n",
       "        text-align: right;\n",
       "    }\n",
       "</style>\n",
       "<table border=\"1\" class=\"dataframe\">\n",
       "  <thead>\n",
       "    <tr style=\"text-align: right;\">\n",
       "      <th></th>\n",
       "      <th>Date</th>\n",
       "      <th>Title</th>\n",
       "      <th>Event</th>\n",
       "    </tr>\n",
       "  </thead>\n",
       "  <tbody>\n",
       "    <tr>\n",
       "      <th>0</th>\n",
       "      <td>July 1, 2021</td>\n",
       "      <td>Armed conflicts and attacks</td>\n",
       "      <td>Allied Democratic Forces insurgency</td>\n",
       "    </tr>\n",
       "    <tr>\n",
       "      <th>1</th>\n",
       "      <td>July 1, 2021</td>\n",
       "      <td>Armed conflicts and attacks</td>\n",
       "      <td>Ugandan</td>\n",
       "    </tr>\n",
       "    <tr>\n",
       "      <th>2</th>\n",
       "      <td>July 1, 2021</td>\n",
       "      <td>Armed conflicts and attacks</td>\n",
       "      <td>Ambassador</td>\n",
       "    </tr>\n",
       "    <tr>\n",
       "      <th>3</th>\n",
       "      <td>July 1, 2021</td>\n",
       "      <td>Arts and culture</td>\n",
       "      <td>2021 Canadian Indian residential schools gravesite discoveries</td>\n",
       "    </tr>\n",
       "    <tr>\n",
       "      <th>4</th>\n",
       "      <td>July 1, 2021</td>\n",
       "      <td>Arts and culture</td>\n",
       "      <td>Indigenous</td>\n",
       "    </tr>\n",
       "  </tbody>\n",
       "</table>\n",
       "</div>"
      ],
      "text/plain": [
       "           Date                        Title  \\\n",
       "0  July 1, 2021  Armed conflicts and attacks   \n",
       "1  July 1, 2021  Armed conflicts and attacks   \n",
       "2  July 1, 2021  Armed conflicts and attacks   \n",
       "3  July 1, 2021             Arts and culture   \n",
       "4  July 1, 2021             Arts and culture   \n",
       "\n",
       "                                                            Event  \n",
       "0                             Allied Democratic Forces insurgency  \n",
       "1                                                         Ugandan  \n",
       "2                                                      Ambassador  \n",
       "3  2021 Canadian Indian residential schools gravesite discoveries  \n",
       "4                                                      Indigenous  "
      ]
     },
     "execution_count": 57,
     "metadata": {},
     "output_type": "execute_result"
    }
   ],
   "source": [
    "wikipedia_events = pd.read_csv(\"wikipedia_events.csv\")\n",
    "wikipedia_events.head()"
   ]
  },
  {
   "cell_type": "code",
   "execution_count": 59,
   "id": "974f8681",
   "metadata": {},
   "outputs": [
    {
     "data": {
      "text/html": [
       "<div>\n",
       "<style scoped>\n",
       "    .dataframe tbody tr th:only-of-type {\n",
       "        vertical-align: middle;\n",
       "    }\n",
       "\n",
       "    .dataframe tbody tr th {\n",
       "        vertical-align: top;\n",
       "    }\n",
       "\n",
       "    .dataframe thead th {\n",
       "        text-align: right;\n",
       "    }\n",
       "</style>\n",
       "<table border=\"1\" class=\"dataframe\">\n",
       "  <thead>\n",
       "    <tr style=\"text-align: right;\">\n",
       "      <th></th>\n",
       "      <th>Date</th>\n",
       "      <th>Title</th>\n",
       "      <th>Event</th>\n",
       "    </tr>\n",
       "  </thead>\n",
       "  <tbody>\n",
       "    <tr>\n",
       "      <th>6744</th>\n",
       "      <td>November 30, 2021</td>\n",
       "      <td>Politics and elections</td>\n",
       "      <td>2021 Honduran general election</td>\n",
       "    </tr>\n",
       "    <tr>\n",
       "      <th>6745</th>\n",
       "      <td>November 30, 2021</td>\n",
       "      <td>Politics and elections</td>\n",
       "      <td>centre</td>\n",
       "    </tr>\n",
       "    <tr>\n",
       "      <th>6746</th>\n",
       "      <td>November 30, 2021</td>\n",
       "      <td>Sports</td>\n",
       "      <td>Impact of the COVID-19 pandemic on sports</td>\n",
       "    </tr>\n",
       "    <tr>\n",
       "      <th>6747</th>\n",
       "      <td>November 30, 2021</td>\n",
       "      <td>Sports</td>\n",
       "      <td>2021–22 NBA season</td>\n",
       "    </tr>\n",
       "    <tr>\n",
       "      <th>6748</th>\n",
       "      <td>November 30, 2021</td>\n",
       "      <td>Sports</td>\n",
       "      <td>Los Angeles Lakers</td>\n",
       "    </tr>\n",
       "  </tbody>\n",
       "</table>\n",
       "</div>"
      ],
      "text/plain": [
       "                   Date                   Title  \\\n",
       "6744  November 30, 2021  Politics and elections   \n",
       "6745  November 30, 2021  Politics and elections   \n",
       "6746  November 30, 2021                  Sports   \n",
       "6747  November 30, 2021                  Sports   \n",
       "6748  November 30, 2021                  Sports   \n",
       "\n",
       "                                          Event  \n",
       "6744             2021 Honduran general election  \n",
       "6745                                     centre  \n",
       "6746  Impact of the COVID-19 pandemic on sports  \n",
       "6747                         2021–22 NBA season  \n",
       "6748                         Los Angeles Lakers  "
      ]
     },
     "execution_count": 59,
     "metadata": {},
     "output_type": "execute_result"
    }
   ],
   "source": [
    "wikipedia_events.tail()"
   ]
  },
  {
   "cell_type": "code",
   "execution_count": 60,
   "id": "09dc5b05",
   "metadata": {},
   "outputs": [],
   "source": [
    "wikipedia_events.drop_duplicates(keep=False, inplace=True)"
   ]
  },
  {
   "cell_type": "code",
   "execution_count": 62,
   "id": "a94dfd18",
   "metadata": {},
   "outputs": [
    {
     "data": {
      "text/plain": [
       "6711"
      ]
     },
     "execution_count": 62,
     "metadata": {},
     "output_type": "execute_result"
    }
   ],
   "source": [
    "len(wikipedia_events)"
   ]
  },
  {
   "cell_type": "code",
   "execution_count": null,
   "id": "badf6ca1",
   "metadata": {},
   "outputs": [],
   "source": []
  }
 ],
 "metadata": {
  "kernelspec": {
   "display_name": "Python 3 (ipykernel)",
   "language": "python",
   "name": "python3"
  },
  "language_info": {
   "codemirror_mode": {
    "name": "ipython",
    "version": 3
   },
   "file_extension": ".py",
   "mimetype": "text/x-python",
   "name": "python",
   "nbconvert_exporter": "python",
   "pygments_lexer": "ipython3",
   "version": "3.8.16"
  }
 },
 "nbformat": 4,
 "nbformat_minor": 5
}
